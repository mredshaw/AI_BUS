{
 "cells": [
  {
   "cell_type": "markdown",
   "id": "1016c260",
   "metadata": {
    "id": "1016c260"
   },
   "source": [
    "#  Anomalous activities by small and mid-size enterprises\n",
    "\n",
    "Small and Mid-size Enterprises (SME).\n",
    "\n",
    "For the SMEs operating in the same industry segment:\n",
    " * Total asset and operating profits are expected to be correlated.\n",
    " * If a firm generated too much profit with a limited amount of assets, there may be some illegal activities contributing to the profits\n",
    " * If a firm generated too little profit with an abundant amount of assets, the operating profits may be disguised for tax purposes\n",
    "\n",
    " ## Imports"
   ]
  },
  {
   "cell_type": "code",
   "execution_count": 1,
   "id": "94680c8e",
   "metadata": {
    "id": "94680c8e"
   },
   "outputs": [],
   "source": [
    "import numpy as np\n",
    "import matplotlib.pyplot as plt\n",
    "import pandas as pd"
   ]
  },
  {
   "cell_type": "markdown",
   "id": "IJtDrQB21AbL",
   "metadata": {
    "id": "IJtDrQB21AbL"
   },
   "source": [
    "**Question 1**: import *k*-means and isolation forest learners from sklearn."
   ]
  },
  {
   "cell_type": "code",
   "execution_count": 2,
   "id": "SLZicmV01O4t",
   "metadata": {
    "id": "SLZicmV01O4t"
   },
   "outputs": [],
   "source": [
    "from sklearn.cluster import KMeans\n",
    "from sklearn.ensemble import IsolationForest"
   ]
  },
  {
   "cell_type": "markdown",
   "id": "56bb0447",
   "metadata": {
    "id": "56bb0447"
   },
   "source": [
    "## Load data\n",
    "\n",
    "**Question 2**: load `week06_tutorial_data.csv` and print the first 5 rows."
   ]
  },
  {
   "cell_type": "code",
   "execution_count": 6,
   "id": "4dd256a3",
   "metadata": {
    "id": "4dd256a3"
   },
   "outputs": [
    {
     "data": {
      "text/html": [
       "<div>\n",
       "<style scoped>\n",
       "    .dataframe tbody tr th:only-of-type {\n",
       "        vertical-align: middle;\n",
       "    }\n",
       "\n",
       "    .dataframe tbody tr th {\n",
       "        vertical-align: top;\n",
       "    }\n",
       "\n",
       "    .dataframe thead th {\n",
       "        text-align: right;\n",
       "    }\n",
       "</style>\n",
       "<table border=\"1\" class=\"dataframe\">\n",
       "  <thead>\n",
       "    <tr style=\"text-align: right;\">\n",
       "      <th></th>\n",
       "      <th>Total Assets</th>\n",
       "      <th>Operating Profits</th>\n",
       "    </tr>\n",
       "  </thead>\n",
       "  <tbody>\n",
       "    <tr>\n",
       "      <th>0</th>\n",
       "      <td>1686.275119</td>\n",
       "      <td>1070.262036</td>\n",
       "    </tr>\n",
       "    <tr>\n",
       "      <th>1</th>\n",
       "      <td>8208.664875</td>\n",
       "      <td>1118.977096</td>\n",
       "    </tr>\n",
       "    <tr>\n",
       "      <th>2</th>\n",
       "      <td>11041.828780</td>\n",
       "      <td>961.875285</td>\n",
       "    </tr>\n",
       "    <tr>\n",
       "      <th>3</th>\n",
       "      <td>-3613.136390</td>\n",
       "      <td>9042.081321</td>\n",
       "    </tr>\n",
       "    <tr>\n",
       "      <th>4</th>\n",
       "      <td>760.941151</td>\n",
       "      <td>479.629689</td>\n",
       "    </tr>\n",
       "  </tbody>\n",
       "</table>\n",
       "</div>"
      ],
      "text/plain": [
       "   Total Assets  Operating Profits\n",
       "0   1686.275119        1070.262036\n",
       "1   8208.664875        1118.977096\n",
       "2  11041.828780         961.875285\n",
       "3  -3613.136390        9042.081321\n",
       "4    760.941151         479.629689"
      ]
     },
     "execution_count": 6,
     "metadata": {},
     "output_type": "execute_result"
    }
   ],
   "source": [
    "df = pd.read_csv('/Users/mikeredshaw/Documents/Schulich MBAN/AI in Business/week06_tutorial_data.csv')\n",
    "df.head()"
   ]
  },
  {
   "cell_type": "markdown",
   "id": "ziysLN5u1nlC",
   "metadata": {
    "id": "ziysLN5u1nlC"
   },
   "source": [
    "**Question 3**: Store the values in a numpy array called `X`."
   ]
  },
  {
   "cell_type": "code",
   "execution_count": 9,
   "id": "612e875f",
   "metadata": {
    "id": "612e875f"
   },
   "outputs": [],
   "source": [
    "X = df.values\n"
   ]
  },
  {
   "cell_type": "markdown",
   "id": "kvKJilgi192M",
   "metadata": {
    "id": "kvKJilgi192M"
   },
   "source": [
    "**Question 4**: How many points/datum and features are there in `X`?"
   ]
  },
  {
   "cell_type": "code",
   "execution_count": 11,
   "id": "Bxc4-HxoaQj4",
   "metadata": {
    "colab": {
     "base_uri": "https://localhost:8080/"
    },
    "id": "Bxc4-HxoaQj4",
    "outputId": "e6c2a9ed-ca98-4705-d7f6-974ae9b92675"
   },
   "outputs": [
    {
     "data": {
      "text/plain": [
       "(140, 2)"
      ]
     },
     "execution_count": 11,
     "metadata": {},
     "output_type": "execute_result"
    }
   ],
   "source": [
    "X.shape"
   ]
  },
  {
   "cell_type": "markdown",
   "id": "fac31e64",
   "metadata": {
    "id": "fac31e64"
   },
   "source": [
    "## Model\n",
    "\n",
    "### Isolation forest\n",
    "\n",
    "**Question 5**: Instantiate an isolation forest with 10,000 estimators. Call it `iso_model`."
   ]
  },
  {
   "cell_type": "code",
   "execution_count": 52,
   "id": "6591aa32",
   "metadata": {
    "id": "6591aa32"
   },
   "outputs": [],
   "source": [
    "iso_model = IsolationForest(n_estimators=10000, contamination=0.1)"
   ]
  },
  {
   "cell_type": "markdown",
   "id": "7eD5AAVS22be",
   "metadata": {
    "id": "7eD5AAVS22be"
   },
   "source": [
    "**Question 6**: What is an *estimator*?\n",
    "\n",
    "*Answer: ...*\n",
    "\n",
    "**Question 7**: Fit the model."
   ]
  },
  {
   "cell_type": "code",
   "execution_count": 53,
   "id": "b5ug8qGJ3B7K",
   "metadata": {
    "colab": {
     "base_uri": "https://localhost:8080/",
     "height": 92
    },
    "id": "b5ug8qGJ3B7K",
    "outputId": "3db7c2b8-6831-4984-8c4e-400dca4cf391"
   },
   "outputs": [
    {
     "data": {
      "text/html": [
       "<style>#sk-container-id-8 {color: black;}#sk-container-id-8 pre{padding: 0;}#sk-container-id-8 div.sk-toggleable {background-color: white;}#sk-container-id-8 label.sk-toggleable__label {cursor: pointer;display: block;width: 100%;margin-bottom: 0;padding: 0.3em;box-sizing: border-box;text-align: center;}#sk-container-id-8 label.sk-toggleable__label-arrow:before {content: \"▸\";float: left;margin-right: 0.25em;color: #696969;}#sk-container-id-8 label.sk-toggleable__label-arrow:hover:before {color: black;}#sk-container-id-8 div.sk-estimator:hover label.sk-toggleable__label-arrow:before {color: black;}#sk-container-id-8 div.sk-toggleable__content {max-height: 0;max-width: 0;overflow: hidden;text-align: left;background-color: #f0f8ff;}#sk-container-id-8 div.sk-toggleable__content pre {margin: 0.2em;color: black;border-radius: 0.25em;background-color: #f0f8ff;}#sk-container-id-8 input.sk-toggleable__control:checked~div.sk-toggleable__content {max-height: 200px;max-width: 100%;overflow: auto;}#sk-container-id-8 input.sk-toggleable__control:checked~label.sk-toggleable__label-arrow:before {content: \"▾\";}#sk-container-id-8 div.sk-estimator input.sk-toggleable__control:checked~label.sk-toggleable__label {background-color: #d4ebff;}#sk-container-id-8 div.sk-label input.sk-toggleable__control:checked~label.sk-toggleable__label {background-color: #d4ebff;}#sk-container-id-8 input.sk-hidden--visually {border: 0;clip: rect(1px 1px 1px 1px);clip: rect(1px, 1px, 1px, 1px);height: 1px;margin: -1px;overflow: hidden;padding: 0;position: absolute;width: 1px;}#sk-container-id-8 div.sk-estimator {font-family: monospace;background-color: #f0f8ff;border: 1px dotted black;border-radius: 0.25em;box-sizing: border-box;margin-bottom: 0.5em;}#sk-container-id-8 div.sk-estimator:hover {background-color: #d4ebff;}#sk-container-id-8 div.sk-parallel-item::after {content: \"\";width: 100%;border-bottom: 1px solid gray;flex-grow: 1;}#sk-container-id-8 div.sk-label:hover label.sk-toggleable__label {background-color: #d4ebff;}#sk-container-id-8 div.sk-serial::before {content: \"\";position: absolute;border-left: 1px solid gray;box-sizing: border-box;top: 0;bottom: 0;left: 50%;z-index: 0;}#sk-container-id-8 div.sk-serial {display: flex;flex-direction: column;align-items: center;background-color: white;padding-right: 0.2em;padding-left: 0.2em;position: relative;}#sk-container-id-8 div.sk-item {position: relative;z-index: 1;}#sk-container-id-8 div.sk-parallel {display: flex;align-items: stretch;justify-content: center;background-color: white;position: relative;}#sk-container-id-8 div.sk-item::before, #sk-container-id-8 div.sk-parallel-item::before {content: \"\";position: absolute;border-left: 1px solid gray;box-sizing: border-box;top: 0;bottom: 0;left: 50%;z-index: -1;}#sk-container-id-8 div.sk-parallel-item {display: flex;flex-direction: column;z-index: 1;position: relative;background-color: white;}#sk-container-id-8 div.sk-parallel-item:first-child::after {align-self: flex-end;width: 50%;}#sk-container-id-8 div.sk-parallel-item:last-child::after {align-self: flex-start;width: 50%;}#sk-container-id-8 div.sk-parallel-item:only-child::after {width: 0;}#sk-container-id-8 div.sk-dashed-wrapped {border: 1px dashed gray;margin: 0 0.4em 0.5em 0.4em;box-sizing: border-box;padding-bottom: 0.4em;background-color: white;}#sk-container-id-8 div.sk-label label {font-family: monospace;font-weight: bold;display: inline-block;line-height: 1.2em;}#sk-container-id-8 div.sk-label-container {text-align: center;}#sk-container-id-8 div.sk-container {/* jupyter's `normalize.less` sets `[hidden] { display: none; }` but bootstrap.min.css set `[hidden] { display: none !important; }` so we also need the `!important` here to be able to override the default hidden behavior on the sphinx rendered scikit-learn.org. See: https://github.com/scikit-learn/scikit-learn/issues/21755 */display: inline-block !important;position: relative;}#sk-container-id-8 div.sk-text-repr-fallback {display: none;}</style><div id=\"sk-container-id-8\" class=\"sk-top-container\"><div class=\"sk-text-repr-fallback\"><pre>IsolationForest(contamination=0.1, n_estimators=10000)</pre><b>In a Jupyter environment, please rerun this cell to show the HTML representation or trust the notebook. <br />On GitHub, the HTML representation is unable to render, please try loading this page with nbviewer.org.</b></div><div class=\"sk-container\" hidden><div class=\"sk-item\"><div class=\"sk-estimator sk-toggleable\"><input class=\"sk-toggleable__control sk-hidden--visually\" id=\"sk-estimator-id-8\" type=\"checkbox\" checked><label for=\"sk-estimator-id-8\" class=\"sk-toggleable__label sk-toggleable__label-arrow\">IsolationForest</label><div class=\"sk-toggleable__content\"><pre>IsolationForest(contamination=0.1, n_estimators=10000)</pre></div></div></div></div></div>"
      ],
      "text/plain": [
       "IsolationForest(contamination=0.1, n_estimators=10000)"
      ]
     },
     "execution_count": 53,
     "metadata": {},
     "output_type": "execute_result"
    }
   ],
   "source": [
    "iso_model.fit(X)"
   ]
  },
  {
   "cell_type": "markdown",
   "id": "Kh6p9E-U3L2k",
   "metadata": {
    "id": "Kh6p9E-U3L2k"
   },
   "source": [
    "**Question 8**: Predict anomalies."
   ]
  },
  {
   "cell_type": "code",
   "execution_count": 54,
   "id": "Zg2VDhQU3P9W",
   "metadata": {
    "id": "Zg2VDhQU3P9W"
   },
   "outputs": [],
   "source": [
    "isomodel_pred = iso_model.predict(X)"
   ]
  },
  {
   "cell_type": "markdown",
   "id": "bCNvJ8nO5bZs",
   "metadata": {
    "id": "bCNvJ8nO5bZs"
   },
   "source": [
    "**Question 9**: How do we recognize the anomalies (and the non-anomalies)?"
   ]
  },
  {
   "cell_type": "code",
   "execution_count": 55,
   "id": "haMOckjba_hf",
   "metadata": {
    "id": "haMOckjba_hf"
   },
   "outputs": [
    {
     "name": "stdout",
     "output_type": "stream",
     "text": [
      "[ 1  1  1 -1  1  1  1  1  1  1  1  1 -1  1  1  1  1  1  1  1  1  1  1  1\n",
      "  1  1  1  1  1  1  1  1  1  1  1  1  1  1  1  1  1  1  1  1  1  1  1  1\n",
      "  1  1  1  1  1  1  1  1  1  1  1  1 -1  1  1 -1  1  1  1 -1  1  1  1  1\n",
      "  1  1  1  1  1  1  1 -1 -1  1  1  1  1  1  1  1  1  1  1 -1  1  1  1  1\n",
      "  1  1  1  1 -1  1 -1  1  1  1 -1  1  1  1  1  1  1  1  1  1  1  1  1  1\n",
      "  1  1  1  1 -1  1  1  1  1 -1  1 -1  1  1  1  1  1  1  1  1]\n"
     ]
    }
   ],
   "source": [
    "print(isomodel_pred)\n"
   ]
  },
  {
   "cell_type": "code",
   "execution_count": 56,
   "id": "277fb91d",
   "metadata": {},
   "outputs": [
    {
     "name": "stdout",
     "output_type": "stream",
     "text": [
      "[[-3613.13639     9042.081321  ]\n",
      " [21080.5679        73.89734466]\n",
      " [ 1552.038858      25.11739487]\n",
      " [13998.23389     1979.122167  ]\n",
      " [17456.5836      1852.249609  ]\n",
      " [17352.06676     1850.816676  ]\n",
      " [-1749.92279     7029.013569  ]\n",
      " [18318.75342     1639.062971  ]\n",
      " [20295.34954       83.69841288]\n",
      " [-3366.153133    -105.5456532 ]\n",
      " [22565.88102       83.64983378]\n",
      " [-2573.395943     -57.56049155]\n",
      " [ -948.8869561    -31.8414615 ]\n",
      " [21927.03203       48.6362547 ]]\n"
     ]
    }
   ],
   "source": [
    "iso_anomalies = X[isomodel_pred == -1]\n",
    "print(iso_anomalies)"
   ]
  },
  {
   "cell_type": "markdown",
   "id": "99-u_znI3Pao",
   "metadata": {
    "id": "99-u_znI3Pao"
   },
   "source": [
    "**Question 10**: Remember slide 11: *Classify: classify points above a set threshold as anomalies*?\n",
    "\n",
    "**Question 11**: Did we set a threshold. If not, how is it set?\n",
    "\n",
    "*Answer: ...*\n",
    "\n"
   ]
  },
  {
   "cell_type": "markdown",
   "id": "98ee9c1c",
   "metadata": {
    "id": "98ee9c1c"
   },
   "source": [
    "### *K*-means\n",
    "\n",
    "**Question 12**: Instantiate and fit *k*-means model. Call it `kmeans_model`.\n",
    "\n",
    "**Question 13**: What should *k* be?\n",
    "\n",
    "*Answer: ...*"
   ]
  },
  {
   "cell_type": "code",
   "execution_count": 46,
   "id": "8e953116",
   "metadata": {
    "colab": {
     "base_uri": "https://localhost:8080/"
    },
    "id": "8e953116",
    "outputId": "6155dba8-53b9-421e-cc74-bb86f91c758a"
   },
   "outputs": [
    {
     "name": "stderr",
     "output_type": "stream",
     "text": [
      "/Library/Frameworks/Python.framework/Versions/3.11/lib/python3.11/site-packages/sklearn/cluster/_kmeans.py:1412: FutureWarning: The default value of `n_init` will change from 10 to 'auto' in 1.4. Set the value of `n_init` explicitly to suppress the warning\n",
      "  super()._check_params_vs_input(X, default_n_init=10)\n"
     ]
    },
    {
     "data": {
      "text/html": [
       "<style>#sk-container-id-7 {color: black;}#sk-container-id-7 pre{padding: 0;}#sk-container-id-7 div.sk-toggleable {background-color: white;}#sk-container-id-7 label.sk-toggleable__label {cursor: pointer;display: block;width: 100%;margin-bottom: 0;padding: 0.3em;box-sizing: border-box;text-align: center;}#sk-container-id-7 label.sk-toggleable__label-arrow:before {content: \"▸\";float: left;margin-right: 0.25em;color: #696969;}#sk-container-id-7 label.sk-toggleable__label-arrow:hover:before {color: black;}#sk-container-id-7 div.sk-estimator:hover label.sk-toggleable__label-arrow:before {color: black;}#sk-container-id-7 div.sk-toggleable__content {max-height: 0;max-width: 0;overflow: hidden;text-align: left;background-color: #f0f8ff;}#sk-container-id-7 div.sk-toggleable__content pre {margin: 0.2em;color: black;border-radius: 0.25em;background-color: #f0f8ff;}#sk-container-id-7 input.sk-toggleable__control:checked~div.sk-toggleable__content {max-height: 200px;max-width: 100%;overflow: auto;}#sk-container-id-7 input.sk-toggleable__control:checked~label.sk-toggleable__label-arrow:before {content: \"▾\";}#sk-container-id-7 div.sk-estimator input.sk-toggleable__control:checked~label.sk-toggleable__label {background-color: #d4ebff;}#sk-container-id-7 div.sk-label input.sk-toggleable__control:checked~label.sk-toggleable__label {background-color: #d4ebff;}#sk-container-id-7 input.sk-hidden--visually {border: 0;clip: rect(1px 1px 1px 1px);clip: rect(1px, 1px, 1px, 1px);height: 1px;margin: -1px;overflow: hidden;padding: 0;position: absolute;width: 1px;}#sk-container-id-7 div.sk-estimator {font-family: monospace;background-color: #f0f8ff;border: 1px dotted black;border-radius: 0.25em;box-sizing: border-box;margin-bottom: 0.5em;}#sk-container-id-7 div.sk-estimator:hover {background-color: #d4ebff;}#sk-container-id-7 div.sk-parallel-item::after {content: \"\";width: 100%;border-bottom: 1px solid gray;flex-grow: 1;}#sk-container-id-7 div.sk-label:hover label.sk-toggleable__label {background-color: #d4ebff;}#sk-container-id-7 div.sk-serial::before {content: \"\";position: absolute;border-left: 1px solid gray;box-sizing: border-box;top: 0;bottom: 0;left: 50%;z-index: 0;}#sk-container-id-7 div.sk-serial {display: flex;flex-direction: column;align-items: center;background-color: white;padding-right: 0.2em;padding-left: 0.2em;position: relative;}#sk-container-id-7 div.sk-item {position: relative;z-index: 1;}#sk-container-id-7 div.sk-parallel {display: flex;align-items: stretch;justify-content: center;background-color: white;position: relative;}#sk-container-id-7 div.sk-item::before, #sk-container-id-7 div.sk-parallel-item::before {content: \"\";position: absolute;border-left: 1px solid gray;box-sizing: border-box;top: 0;bottom: 0;left: 50%;z-index: -1;}#sk-container-id-7 div.sk-parallel-item {display: flex;flex-direction: column;z-index: 1;position: relative;background-color: white;}#sk-container-id-7 div.sk-parallel-item:first-child::after {align-self: flex-end;width: 50%;}#sk-container-id-7 div.sk-parallel-item:last-child::after {align-self: flex-start;width: 50%;}#sk-container-id-7 div.sk-parallel-item:only-child::after {width: 0;}#sk-container-id-7 div.sk-dashed-wrapped {border: 1px dashed gray;margin: 0 0.4em 0.5em 0.4em;box-sizing: border-box;padding-bottom: 0.4em;background-color: white;}#sk-container-id-7 div.sk-label label {font-family: monospace;font-weight: bold;display: inline-block;line-height: 1.2em;}#sk-container-id-7 div.sk-label-container {text-align: center;}#sk-container-id-7 div.sk-container {/* jupyter's `normalize.less` sets `[hidden] { display: none; }` but bootstrap.min.css set `[hidden] { display: none !important; }` so we also need the `!important` here to be able to override the default hidden behavior on the sphinx rendered scikit-learn.org. See: https://github.com/scikit-learn/scikit-learn/issues/21755 */display: inline-block !important;position: relative;}#sk-container-id-7 div.sk-text-repr-fallback {display: none;}</style><div id=\"sk-container-id-7\" class=\"sk-top-container\"><div class=\"sk-text-repr-fallback\"><pre>KMeans(n_clusters=2)</pre><b>In a Jupyter environment, please rerun this cell to show the HTML representation or trust the notebook. <br />On GitHub, the HTML representation is unable to render, please try loading this page with nbviewer.org.</b></div><div class=\"sk-container\" hidden><div class=\"sk-item\"><div class=\"sk-estimator sk-toggleable\"><input class=\"sk-toggleable__control sk-hidden--visually\" id=\"sk-estimator-id-7\" type=\"checkbox\" checked><label for=\"sk-estimator-id-7\" class=\"sk-toggleable__label sk-toggleable__label-arrow\">KMeans</label><div class=\"sk-toggleable__content\"><pre>KMeans(n_clusters=2)</pre></div></div></div></div></div>"
      ],
      "text/plain": [
       "KMeans(n_clusters=2)"
      ]
     },
     "execution_count": 46,
     "metadata": {},
     "output_type": "execute_result"
    }
   ],
   "source": [
    "kmeans_model = KMeans(n_clusters=2)\n",
    "kmeans_model.fit(X)"
   ]
  },
  {
   "cell_type": "markdown",
   "id": "Ujf515QH6U8o",
   "metadata": {
    "id": "Ujf515QH6U8o"
   },
   "source": [
    "**Question 14**: How can we use the fitted model for anomaly detection?"
   ]
  },
  {
   "cell_type": "code",
   "execution_count": 47,
   "id": "JScBl4HT6oMn",
   "metadata": {
    "id": "JScBl4HT6oMn"
   },
   "outputs": [],
   "source": [
    "kmeans_model_pred = kmeans_model.predict(X)"
   ]
  },
  {
   "cell_type": "code",
   "execution_count": 48,
   "id": "695ea323",
   "metadata": {},
   "outputs": [
    {
     "name": "stdout",
     "output_type": "stream",
     "text": [
      "[1 1 0 1 1 1 1 1 0 0 0 1 0 0 1 1 1 1 0 1 0 1 0 1 1 0 1 1 0 1 0 1 0 0 1 1 1\n",
      " 0 1 1 1 1 1 0 1 0 1 0 0 1 0 0 1 1 1 1 0 0 0 1 1 0 0 0 0 0 0 0 1 0 0 0 1 1\n",
      " 1 1 0 1 1 0 1 0 0 1 1 0 1 1 0 0 1 0 1 0 0 1 1 1 1 1 0 0 1 0 0 1 0 0 0 1 0\n",
      " 1 1 1 0 0 0 1 1 1 1 0 1 0 1 1 1 1 1 1 0 0 1 0 1 1 1 1 0 1]\n"
     ]
    }
   ],
   "source": [
    "print(kmeans_model_pred)"
   ]
  },
  {
   "cell_type": "code",
   "execution_count": 49,
   "id": "584d3691",
   "metadata": {},
   "outputs": [
    {
     "name": "stdout",
     "output_type": "stream",
     "text": [
      "[[ 1686.275119    1070.262036  ]\n",
      " [ 8208.664875    1118.977096  ]\n",
      " [-3613.13639     9042.081321  ]\n",
      " [  760.9411505    479.6296886 ]\n",
      " [ 6862.047745    1160.000951  ]\n",
      " [ 8679.560199     943.3664238 ]\n",
      " [ 1629.221225     657.8101431 ]\n",
      " [ 7370.363869    1184.479724  ]\n",
      " [ 5552.496064     989.1911665 ]\n",
      " [   99.93505271   880.6696226 ]\n",
      " [ 6898.118472     660.2213169 ]\n",
      " [ 3684.865584     780.1479929 ]\n",
      " [ 1143.225838     541.8916932 ]\n",
      " [ -624.7830939    311.2412554 ]\n",
      " [ 8700.678851    1549.110787  ]\n",
      " [ -678.1815671    701.8788145 ]\n",
      " [ 8335.153721     888.3600247 ]\n",
      " [ 1699.614425     821.1117859 ]\n",
      " [ 5459.372701     999.7461888 ]\n",
      " [ 1701.65246      228.8418423 ]\n",
      " [ 3625.954641     495.3603891 ]\n",
      " [ 8138.322108    1393.946171  ]\n",
      " [ 4824.944981    1308.884502  ]\n",
      " [  871.5685363    914.0628027 ]\n",
      " [ 5996.646913     833.2276683 ]\n",
      " [ 7570.78559     1186.144247  ]\n",
      " [ 4999.66802      967.6561026 ]\n",
      " [ 5686.102295     931.2006877 ]\n",
      " [ 1446.939417     621.2296522 ]\n",
      " [ 8187.163435     957.9276134 ]\n",
      " [ 6681.368409     912.971144  ]\n",
      " [ 7901.340375     846.8199513 ]\n",
      " [ 7404.791382     667.0328275 ]\n",
      " [ 3450.76512      908.5221546 ]\n",
      " [ 7486.114601    1319.006904  ]\n",
      " [ 4012.729134     697.5373909 ]\n",
      " [ 1552.038858      25.11739487]\n",
      " [ 6329.572452     797.7641321 ]\n",
      " [ 5092.760882     652.1522087 ]\n",
      " [ 4056.455046     608.7804442 ]\n",
      " [ 8274.996939     863.3602226 ]\n",
      " [ 8174.644476     831.4980587 ]\n",
      " [ 5624.449426     766.5210426 ]\n",
      " [ 1441.48599      306.6844525 ]\n",
      " [-1749.92279     7029.013569  ]\n",
      " [ 3336.965439     269.3932485 ]\n",
      " [ 6772.777223    1196.032174  ]\n",
      " [ 6248.096771    1056.853296  ]\n",
      " [ 5435.724311     758.3158256 ]\n",
      " [ 6663.123052     558.1152223 ]\n",
      " [ -892.737179     499.6749025 ]\n",
      " [ 5245.729138    1137.186062  ]\n",
      " [ 7131.808367     707.9036012 ]\n",
      " [ 2284.514736     841.4110632 ]\n",
      " [ 2868.176363    1234.602169  ]\n",
      " [ 3449.353692     518.331203  ]\n",
      " [-3366.153133    -105.5456532 ]\n",
      " [ 7721.68503      390.6395766 ]\n",
      " [ 5835.96464      841.7164878 ]\n",
      " [ 5315.443973     329.833856  ]\n",
      " [ 1912.871944     610.0108699 ]\n",
      " [ 6546.200839     441.9595125 ]\n",
      " [ 8126.569599    1051.583773  ]\n",
      " [ 7054.455921     906.0707161 ]\n",
      " [ 2749.324678     964.197415  ]\n",
      " [ 6788.038484    1267.433469  ]\n",
      " [ 8743.424112     810.2401066 ]\n",
      " [-2573.395943     -57.56049155]\n",
      " [ 6959.937909    1408.263201  ]\n",
      " [ 4252.170281     839.8919966 ]\n",
      " [ 6123.909718    1085.880286  ]\n",
      " [ 8479.97208     1639.956329  ]\n",
      " [ -948.8869561    -31.8414615 ]\n",
      " [ 6757.175161    1408.176766  ]\n",
      " [ 8198.637918    1272.00303   ]\n",
      " [ 6728.12325     1361.088043  ]\n",
      " [ 4878.549727     383.5597299 ]\n",
      " [ 8197.449318     914.530412  ]\n",
      " [ 7011.145525     856.4373904 ]]\n"
     ]
    }
   ],
   "source": [
    "kmeans_anomalies = X[kmeans_model_pred == 1]\n",
    "print(kmeans_anomalies)"
   ]
  },
  {
   "cell_type": "markdown",
   "id": "t4QxdJK46tJX",
   "metadata": {
    "id": "t4QxdJK46tJX"
   },
   "source": [
    "**Question 15**: Do we need to set a threshold? If yes, then how?\n",
    "\n",
    "*Answer: ...*"
   ]
  },
  {
   "cell_type": "code",
   "execution_count": null,
   "id": "1aCOt59VfjUI",
   "metadata": {
    "colab": {
     "base_uri": "https://localhost:8080/"
    },
    "id": "1aCOt59VfjUI",
    "outputId": "26bf1553-1c53-452c-f7fb-1052aa9adbcb"
   },
   "outputs": [],
   "source": []
  },
  {
   "cell_type": "markdown",
   "id": "254d1831",
   "metadata": {
    "id": "254d1831"
   },
   "source": [
    "## Plot\n",
    "\n",
    "### Isolation forest"
   ]
  },
  {
   "cell_type": "code",
   "execution_count": 57,
   "id": "9be7e105",
   "metadata": {
    "colab": {
     "base_uri": "https://localhost:8080/",
     "height": 489
    },
    "id": "9be7e105",
    "outputId": "8c3b9dbe-3ba8-448b-c46e-f74ce1dda4c0"
   },
   "outputs": [
    {
     "data": {
      "text/plain": [
       "Text(0, 0.5, 'Operating Profits')"
      ]
     },
     "execution_count": 57,
     "metadata": {},
     "output_type": "execute_result"
    },
    {
     "data": {
      "image/png": "[encoded data removed]",
      "text/plain": [
       "<Figure size 640x480 with 1 Axes>"
      ]
     },
     "metadata": {},
     "output_type": "display_data"
    }
   ],
   "source": [
    "# plot the line, the samples, and the nearest vectors to the plane\n",
    "xx, yy = np.meshgrid(np.linspace(-5000, 25000, 500), np.linspace(-2000, 10000, 100))\n",
    "Z = iso_model.decision_function(np.c_[xx.ravel(), yy.ravel()])\n",
    "Z = Z.reshape(xx.shape)\n",
    "\n",
    "plt.title(\"IsolationForest\")\n",
    "plt.contourf(xx, yy, Z, cmap=plt.cm.Blues_r)\n",
    "\n",
    "plt.scatter(X[:, 0], X[:, 1], c='white', s=20, edgecolor='k')\n",
    "plt.scatter(iso_anomalies[:, 0], iso_anomalies[:, 1], c='red', ec='k', s=20)\n",
    "plt.axis('tight')\n",
    "plt.xlim((-5000, 25000))\n",
    "plt.ylim((-2000, 10000))\n",
    "plt.xlabel('Total Assets')\n",
    "plt.ylabel('Operating Profits')"
   ]
  },
  {
   "cell_type": "markdown",
   "id": "0145e2d5",
   "metadata": {
    "id": "0145e2d5"
   },
   "source": [
    "## *K*-means"
   ]
  },
  {
   "cell_type": "code",
   "execution_count": 51,
   "id": "40de7f79",
   "metadata": {
    "colab": {
     "base_uri": "https://localhost:8080/",
     "height": 489
    },
    "id": "40de7f79",
    "outputId": "4af490be-7f5c-433c-9c15-320f35e55c5e"
   },
   "outputs": [
    {
     "data": {
      "text/plain": [
       "Text(0.5, 1.0, 'K-means')"
      ]
     },
     "execution_count": 51,
     "metadata": {},
     "output_type": "execute_result"
    },
    {
     "data": {
      "image/png": "[encoded data removed]",
      "text/plain": [
       "<Figure size 640x480 with 1 Axes>"
      ]
     },
     "metadata": {},
     "output_type": "display_data"
    }
   ],
   "source": [
    "xx, yy = np.meshgrid(np.linspace(-5000, 25000, 500), np.linspace(-2000, 10000, 100))\n",
    "Z = kmeans_model.predict(np.c_[xx.ravel(), yy.ravel()])\n",
    "\n",
    "# Put the result into a color plot\n",
    "Z = Z.reshape(xx.shape)\n",
    "plt.figure(1)\n",
    "plt.clf()\n",
    "plt.imshow(Z, interpolation=\"nearest\", extent=(xx.min(), xx.max(), yy.min(), yy.max()),\n",
    "           cmap=plt.cm.Paired, aspect=\"auto\", origin=\"lower\")\n",
    "\n",
    "centroids = kmeans_model.cluster_centers_\n",
    "\n",
    "plt.plot(X[:, 0], X[:, 1], \"k.\", markersize=5)\n",
    "plt.scatter(kmeans_anomalies[:, 0], kmeans_anomalies[:, 1], marker='o', c='red', ec='r', s=50)\n",
    "plt.scatter(centroids[:, 0], centroids[:, 1], marker=\"x\", s=169, linewidths=3, color=\"w\", zorder=10)\n",
    "plt.xlabel('Total Assets')\n",
    "plt.ylabel('Operating Profits')\n",
    "plt.title(\"K-means\")"
   ]
  },
  {
   "cell_type": "code",
   "execution_count": null,
   "id": "cfabe91d",
   "metadata": {
    "id": "cfabe91d"
   },
   "outputs": [],
   "source": []
  }
 ],
 "metadata": {
  "colab": {
   "provenance": []
  },
  "kernelspec": {
   "display_name": "Python 3 (ipykernel)",
   "language": "python",
   "name": "python3"
  },
  "language_info": {
   "codemirror_mode": {
    "name": "ipython",
    "version": 3
   },
   "file_extension": ".py",
   "mimetype": "text/x-python",
   "name": "python",
   "nbconvert_exporter": "python",
   "pygments_lexer": "ipython3",
   "version": "3.11.3"
  }
 },
 "nbformat": 4,
 "nbformat_minor": 5
}
