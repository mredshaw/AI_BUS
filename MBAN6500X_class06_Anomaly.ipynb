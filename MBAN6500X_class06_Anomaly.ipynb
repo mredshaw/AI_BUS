{
 "cells": [
  {
   "cell_type": "markdown",
   "id": "1016c260",
   "metadata": {
    "id": "1016c260"
   },
   "source": [
    "#  Anomalous activities by small and mid-size enterprises\n",
    "\n",
    "Small and Mid-size Enterprises (SME).\n",
    "\n",
    "For the SMEs operating in the same industry segment:\n",
    " * Total asset and operating profits are expected to be correlated.\n",
    " * If a firm generated too much profit with a limited amount of assets, there may be some illegal activities contributing to the profits\n",
    " * If a firm generated too little profit with an abundant amount of assets, the operating profits may be disguised for tax purposes\n",
    "\n",
    " ## Imports"
   ]
  },
  {
   "cell_type": "code",
   "execution_count": 77,
   "id": "94680c8e",
   "metadata": {
    "id": "94680c8e"
   },
   "outputs": [],
   "source": [
    "import numpy as np\n",
    "import matplotlib.pyplot as plt\n",
    "import pandas as pd"
   ]
  },
  {
   "cell_type": "markdown",
   "id": "IJtDrQB21AbL",
   "metadata": {
    "id": "IJtDrQB21AbL"
   },
   "source": [
    "**Question 1**: import *k*-means and isolation forest learners from sklearn."
   ]
  },
  {
   "cell_type": "code",
   "execution_count": 78,
   "id": "SLZicmV01O4t",
   "metadata": {
    "id": "SLZicmV01O4t"
   },
   "outputs": [],
   "source": [
    "from sklearn.cluster import KMeans\n",
    "from sklearn.ensemble import IsolationForest"
   ]
  },
  {
   "cell_type": "markdown",
   "id": "56bb0447",
   "metadata": {
    "id": "56bb0447"
   },
   "source": [
    "## Load data\n",
    "\n",
    "**Question 2**: load `week06_tutorial_data.csv` and print the first 5 rows."
   ]
  },
  {
   "cell_type": "code",
   "execution_count": 79,
   "id": "4dd256a3",
   "metadata": {
    "id": "4dd256a3"
   },
   "outputs": [
    {
     "data": {
      "text/html": [
       "<div>\n",
       "<style scoped>\n",
       "    .dataframe tbody tr th:only-of-type {\n",
       "        vertical-align: middle;\n",
       "    }\n",
       "\n",
       "    .dataframe tbody tr th {\n",
       "        vertical-align: top;\n",
       "    }\n",
       "\n",
       "    .dataframe thead th {\n",
       "        text-align: right;\n",
       "    }\n",
       "</style>\n",
       "<table border=\"1\" class=\"dataframe\">\n",
       "  <thead>\n",
       "    <tr style=\"text-align: right;\">\n",
       "      <th></th>\n",
       "      <th>Total Assets</th>\n",
       "      <th>Operating Profits</th>\n",
       "    </tr>\n",
       "  </thead>\n",
       "  <tbody>\n",
       "    <tr>\n",
       "      <th>0</th>\n",
       "      <td>1686.275119</td>\n",
       "      <td>1070.262036</td>\n",
       "    </tr>\n",
       "    <tr>\n",
       "      <th>1</th>\n",
       "      <td>8208.664875</td>\n",
       "      <td>1118.977096</td>\n",
       "    </tr>\n",
       "    <tr>\n",
       "      <th>2</th>\n",
       "      <td>11041.828780</td>\n",
       "      <td>961.875285</td>\n",
       "    </tr>\n",
       "    <tr>\n",
       "      <th>3</th>\n",
       "      <td>-3613.136390</td>\n",
       "      <td>9042.081321</td>\n",
       "    </tr>\n",
       "    <tr>\n",
       "      <th>4</th>\n",
       "      <td>760.941151</td>\n",
       "      <td>479.629689</td>\n",
       "    </tr>\n",
       "  </tbody>\n",
       "</table>\n",
       "</div>"
      ],
      "text/plain": [
       "   Total Assets  Operating Profits\n",
       "0   1686.275119        1070.262036\n",
       "1   8208.664875        1118.977096\n",
       "2  11041.828780         961.875285\n",
       "3  -3613.136390        9042.081321\n",
       "4    760.941151         479.629689"
      ]
     },
     "execution_count": 79,
     "metadata": {},
     "output_type": "execute_result"
    }
   ],
   "source": [
    "df = pd.read_csv('/Users/mikeredshaw/Documents/Schulich MBAN/AI in Business/week06_tutorial_data.csv')\n",
    "df.head()"
   ]
  },
  {
   "cell_type": "markdown",
   "id": "ziysLN5u1nlC",
   "metadata": {
    "id": "ziysLN5u1nlC"
   },
   "source": [
    "**Question 3**: Store the values in a numpy array called `X`."
   ]
  },
  {
   "cell_type": "code",
   "execution_count": 80,
   "id": "612e875f",
   "metadata": {
    "id": "612e875f"
   },
   "outputs": [],
   "source": [
    "X = df.values\n"
   ]
  },
  {
   "cell_type": "markdown",
   "id": "kvKJilgi192M",
   "metadata": {
    "id": "kvKJilgi192M"
   },
   "source": [
    "**Question 4**: How many points/datum and features are there in `X`?"
   ]
  },
  {
   "cell_type": "code",
   "execution_count": 81,
   "id": "Bxc4-HxoaQj4",
   "metadata": {
    "colab": {
     "base_uri": "https://localhost:8080/"
    },
    "id": "Bxc4-HxoaQj4",
    "outputId": "e6c2a9ed-ca98-4705-d7f6-974ae9b92675"
   },
   "outputs": [
    {
     "data": {
      "text/plain": [
       "(140, 2)"
      ]
     },
     "execution_count": 81,
     "metadata": {},
     "output_type": "execute_result"
    }
   ],
   "source": [
    "X.shape"
   ]
  },
  {
   "cell_type": "markdown",
   "id": "fac31e64",
   "metadata": {
    "id": "fac31e64"
   },
   "source": [
    "## Model\n",
    "\n",
    "### Isolation forest\n",
    "\n",
    "**Question 5**: Instantiate an isolation forest with 10,000 estimators. Call it `iso_model`."
   ]
  },
  {
   "cell_type": "code",
   "execution_count": 82,
   "id": "6591aa32",
   "metadata": {
    "id": "6591aa32"
   },
   "outputs": [],
   "source": [
    "iso_model = IsolationForest(n_estimators=10000, contamination=0.1)"
   ]
  },
  {
   "cell_type": "markdown",
   "id": "7eD5AAVS22be",
   "metadata": {
    "id": "7eD5AAVS22be"
   },
   "source": [
    "**Question 6**: What is an *estimator*?\n",
    "\n",
    "*Answer: ...*\n",
    "\n",
    "**Question 7**: Fit the model."
   ]
  },
  {
   "cell_type": "code",
   "execution_count": 83,
   "id": "b5ug8qGJ3B7K",
   "metadata": {
    "colab": {
     "base_uri": "https://localhost:8080/",
     "height": 92
    },
    "id": "b5ug8qGJ3B7K",
    "outputId": "3db7c2b8-6831-4984-8c4e-400dca4cf391"
   },
   "outputs": [
    {
     "data": {
      "text/html": [
       "<style>#sk-container-id-11 {color: black;}#sk-container-id-11 pre{padding: 0;}#sk-container-id-11 div.sk-toggleable {background-color: white;}#sk-container-id-11 label.sk-toggleable__label {cursor: pointer;display: block;width: 100%;margin-bottom: 0;padding: 0.3em;box-sizing: border-box;text-align: center;}#sk-container-id-11 label.sk-toggleable__label-arrow:before {content: \"▸\";float: left;margin-right: 0.25em;color: #696969;}#sk-container-id-11 label.sk-toggleable__label-arrow:hover:before {color: black;}#sk-container-id-11 div.sk-estimator:hover label.sk-toggleable__label-arrow:before {color: black;}#sk-container-id-11 div.sk-toggleable__content {max-height: 0;max-width: 0;overflow: hidden;text-align: left;background-color: #f0f8ff;}#sk-container-id-11 div.sk-toggleable__content pre {margin: 0.2em;color: black;border-radius: 0.25em;background-color: #f0f8ff;}#sk-container-id-11 input.sk-toggleable__control:checked~div.sk-toggleable__content {max-height: 200px;max-width: 100%;overflow: auto;}#sk-container-id-11 input.sk-toggleable__control:checked~label.sk-toggleable__label-arrow:before {content: \"▾\";}#sk-container-id-11 div.sk-estimator input.sk-toggleable__control:checked~label.sk-toggleable__label {background-color: #d4ebff;}#sk-container-id-11 div.sk-label input.sk-toggleable__control:checked~label.sk-toggleable__label {background-color: #d4ebff;}#sk-container-id-11 input.sk-hidden--visually {border: 0;clip: rect(1px 1px 1px 1px);clip: rect(1px, 1px, 1px, 1px);height: 1px;margin: -1px;overflow: hidden;padding: 0;position: absolute;width: 1px;}#sk-container-id-11 div.sk-estimator {font-family: monospace;background-color: #f0f8ff;border: 1px dotted black;border-radius: 0.25em;box-sizing: border-box;margin-bottom: 0.5em;}#sk-container-id-11 div.sk-estimator:hover {background-color: #d4ebff;}#sk-container-id-11 div.sk-parallel-item::after {content: \"\";width: 100%;border-bottom: 1px solid gray;flex-grow: 1;}#sk-container-id-11 div.sk-label:hover label.sk-toggleable__label {background-color: #d4ebff;}#sk-container-id-11 div.sk-serial::before {content: \"\";position: absolute;border-left: 1px solid gray;box-sizing: border-box;top: 0;bottom: 0;left: 50%;z-index: 0;}#sk-container-id-11 div.sk-serial {display: flex;flex-direction: column;align-items: center;background-color: white;padding-right: 0.2em;padding-left: 0.2em;position: relative;}#sk-container-id-11 div.sk-item {position: relative;z-index: 1;}#sk-container-id-11 div.sk-parallel {display: flex;align-items: stretch;justify-content: center;background-color: white;position: relative;}#sk-container-id-11 div.sk-item::before, #sk-container-id-11 div.sk-parallel-item::before {content: \"\";position: absolute;border-left: 1px solid gray;box-sizing: border-box;top: 0;bottom: 0;left: 50%;z-index: -1;}#sk-container-id-11 div.sk-parallel-item {display: flex;flex-direction: column;z-index: 1;position: relative;background-color: white;}#sk-container-id-11 div.sk-parallel-item:first-child::after {align-self: flex-end;width: 50%;}#sk-container-id-11 div.sk-parallel-item:last-child::after {align-self: flex-start;width: 50%;}#sk-container-id-11 div.sk-parallel-item:only-child::after {width: 0;}#sk-container-id-11 div.sk-dashed-wrapped {border: 1px dashed gray;margin: 0 0.4em 0.5em 0.4em;box-sizing: border-box;padding-bottom: 0.4em;background-color: white;}#sk-container-id-11 div.sk-label label {font-family: monospace;font-weight: bold;display: inline-block;line-height: 1.2em;}#sk-container-id-11 div.sk-label-container {text-align: center;}#sk-container-id-11 div.sk-container {/* jupyter's `normalize.less` sets `[hidden] { display: none; }` but bootstrap.min.css set `[hidden] { display: none !important; }` so we also need the `!important` here to be able to override the default hidden behavior on the sphinx rendered scikit-learn.org. See: https://github.com/scikit-learn/scikit-learn/issues/21755 */display: inline-block !important;position: relative;}#sk-container-id-11 div.sk-text-repr-fallback {display: none;}</style><div id=\"sk-container-id-11\" class=\"sk-top-container\"><div class=\"sk-text-repr-fallback\"><pre>IsolationForest(contamination=0.1, n_estimators=10000)</pre><b>In a Jupyter environment, please rerun this cell to show the HTML representation or trust the notebook. <br />On GitHub, the HTML representation is unable to render, please try loading this page with nbviewer.org.</b></div><div class=\"sk-container\" hidden><div class=\"sk-item\"><div class=\"sk-estimator sk-toggleable\"><input class=\"sk-toggleable__control sk-hidden--visually\" id=\"sk-estimator-id-11\" type=\"checkbox\" checked><label for=\"sk-estimator-id-11\" class=\"sk-toggleable__label sk-toggleable__label-arrow\">IsolationForest</label><div class=\"sk-toggleable__content\"><pre>IsolationForest(contamination=0.1, n_estimators=10000)</pre></div></div></div></div></div>"
      ],
      "text/plain": [
       "IsolationForest(contamination=0.1, n_estimators=10000)"
      ]
     },
     "execution_count": 83,
     "metadata": {},
     "output_type": "execute_result"
    }
   ],
   "source": [
    "iso_model.fit(X)"
   ]
  },
  {
   "cell_type": "markdown",
   "id": "Kh6p9E-U3L2k",
   "metadata": {
    "id": "Kh6p9E-U3L2k"
   },
   "source": [
    "**Question 8**: Predict anomalies."
   ]
  },
  {
   "cell_type": "code",
   "execution_count": 84,
   "id": "Zg2VDhQU3P9W",
   "metadata": {
    "id": "Zg2VDhQU3P9W"
   },
   "outputs": [],
   "source": [
    "isomodel_pred = iso_model.predict(X)"
   ]
  },
  {
   "cell_type": "markdown",
   "id": "bCNvJ8nO5bZs",
   "metadata": {
    "id": "bCNvJ8nO5bZs"
   },
   "source": [
    "**Question 9**: How do we recognize the anomalies (and the non-anomalies)?"
   ]
  },
  {
   "cell_type": "code",
   "execution_count": 85,
   "id": "haMOckjba_hf",
   "metadata": {
    "id": "haMOckjba_hf"
   },
   "outputs": [
    {
     "name": "stdout",
     "output_type": "stream",
     "text": [
      "[ 1  1  1 -1  1  1  1  1  1  1  1  1 -1  1  1  1  1  1  1  1  1  1  1  1\n",
      "  1  1  1  1  1  1  1  1  1  1  1  1  1  1  1  1  1  1  1  1  1  1  1  1\n",
      "  1  1  1  1  1  1  1  1  1  1  1  1 -1  1  1 -1  1  1  1 -1  1  1  1  1\n",
      "  1  1  1  1  1  1  1 -1 -1  1  1  1  1  1  1  1  1  1  1 -1  1  1  1  1\n",
      "  1  1  1  1 -1  1 -1  1  1  1 -1  1  1  1  1  1  1  1  1  1  1  1  1  1\n",
      "  1  1  1  1 -1  1  1  1  1 -1  1 -1  1  1  1  1  1  1  1  1]\n"
     ]
    }
   ],
   "source": [
    "print(isomodel_pred)\n"
   ]
  },
  {
   "cell_type": "code",
   "execution_count": 86,
   "id": "277fb91d",
   "metadata": {},
   "outputs": [
    {
     "name": "stdout",
     "output_type": "stream",
     "text": [
      "[[-3613.13639     9042.081321  ]\n",
      " [21080.5679        73.89734466]\n",
      " [ 1552.038858      25.11739487]\n",
      " [13998.23389     1979.122167  ]\n",
      " [17456.5836      1852.249609  ]\n",
      " [17352.06676     1850.816676  ]\n",
      " [-1749.92279     7029.013569  ]\n",
      " [18318.75342     1639.062971  ]\n",
      " [20295.34954       83.69841288]\n",
      " [-3366.153133    -105.5456532 ]\n",
      " [22565.88102       83.64983378]\n",
      " [-2573.395943     -57.56049155]\n",
      " [ -948.8869561    -31.8414615 ]\n",
      " [21927.03203       48.6362547 ]]\n"
     ]
    }
   ],
   "source": [
    "iso_anomalies = X[isomodel_pred == -1]\n",
    "print(iso_anomalies)"
   ]
  },
  {
   "cell_type": "markdown",
   "id": "99-u_znI3Pao",
   "metadata": {
    "id": "99-u_znI3Pao"
   },
   "source": [
    "**Question 10**: Remember slide 11: *Classify: classify points above a set threshold as anomalies*?\n",
    "\n",
    "**Question 11**: Did we set a threshold. If not, how is it set?\n",
    "\n",
    "*Answer: ...*\n",
    "\n"
   ]
  },
  {
   "cell_type": "markdown",
   "id": "98ee9c1c",
   "metadata": {
    "id": "98ee9c1c"
   },
   "source": [
    "### *K*-means\n",
    "\n",
    "**Question 12**: Instantiate and fit *k*-means model. Call it `kmeans_model`.\n",
    "\n",
    "**Question 13**: What should *k* be?\n",
    "\n",
    "*Answer: ...*"
   ]
  },
  {
   "cell_type": "code",
   "execution_count": 87,
   "id": "8e953116",
   "metadata": {
    "colab": {
     "base_uri": "https://localhost:8080/"
    },
    "id": "8e953116",
    "outputId": "6155dba8-53b9-421e-cc74-bb86f91c758a"
   },
   "outputs": [
    {
     "name": "stderr",
     "output_type": "stream",
     "text": [
      "/Library/Frameworks/Python.framework/Versions/3.11/lib/python3.11/site-packages/sklearn/cluster/_kmeans.py:1412: FutureWarning: The default value of `n_init` will change from 10 to 'auto' in 1.4. Set the value of `n_init` explicitly to suppress the warning\n",
      "  super()._check_params_vs_input(X, default_n_init=10)\n"
     ]
    },
    {
     "data": {
      "text/html": [
       "<style>#sk-container-id-12 {color: black;}#sk-container-id-12 pre{padding: 0;}#sk-container-id-12 div.sk-toggleable {background-color: white;}#sk-container-id-12 label.sk-toggleable__label {cursor: pointer;display: block;width: 100%;margin-bottom: 0;padding: 0.3em;box-sizing: border-box;text-align: center;}#sk-container-id-12 label.sk-toggleable__label-arrow:before {content: \"▸\";float: left;margin-right: 0.25em;color: #696969;}#sk-container-id-12 label.sk-toggleable__label-arrow:hover:before {color: black;}#sk-container-id-12 div.sk-estimator:hover label.sk-toggleable__label-arrow:before {color: black;}#sk-container-id-12 div.sk-toggleable__content {max-height: 0;max-width: 0;overflow: hidden;text-align: left;background-color: #f0f8ff;}#sk-container-id-12 div.sk-toggleable__content pre {margin: 0.2em;color: black;border-radius: 0.25em;background-color: #f0f8ff;}#sk-container-id-12 input.sk-toggleable__control:checked~div.sk-toggleable__content {max-height: 200px;max-width: 100%;overflow: auto;}#sk-container-id-12 input.sk-toggleable__control:checked~label.sk-toggleable__label-arrow:before {content: \"▾\";}#sk-container-id-12 div.sk-estimator input.sk-toggleable__control:checked~label.sk-toggleable__label {background-color: #d4ebff;}#sk-container-id-12 div.sk-label input.sk-toggleable__control:checked~label.sk-toggleable__label {background-color: #d4ebff;}#sk-container-id-12 input.sk-hidden--visually {border: 0;clip: rect(1px 1px 1px 1px);clip: rect(1px, 1px, 1px, 1px);height: 1px;margin: -1px;overflow: hidden;padding: 0;position: absolute;width: 1px;}#sk-container-id-12 div.sk-estimator {font-family: monospace;background-color: #f0f8ff;border: 1px dotted black;border-radius: 0.25em;box-sizing: border-box;margin-bottom: 0.5em;}#sk-container-id-12 div.sk-estimator:hover {background-color: #d4ebff;}#sk-container-id-12 div.sk-parallel-item::after {content: \"\";width: 100%;border-bottom: 1px solid gray;flex-grow: 1;}#sk-container-id-12 div.sk-label:hover label.sk-toggleable__label {background-color: #d4ebff;}#sk-container-id-12 div.sk-serial::before {content: \"\";position: absolute;border-left: 1px solid gray;box-sizing: border-box;top: 0;bottom: 0;left: 50%;z-index: 0;}#sk-container-id-12 div.sk-serial {display: flex;flex-direction: column;align-items: center;background-color: white;padding-right: 0.2em;padding-left: 0.2em;position: relative;}#sk-container-id-12 div.sk-item {position: relative;z-index: 1;}#sk-container-id-12 div.sk-parallel {display: flex;align-items: stretch;justify-content: center;background-color: white;position: relative;}#sk-container-id-12 div.sk-item::before, #sk-container-id-12 div.sk-parallel-item::before {content: \"\";position: absolute;border-left: 1px solid gray;box-sizing: border-box;top: 0;bottom: 0;left: 50%;z-index: -1;}#sk-container-id-12 div.sk-parallel-item {display: flex;flex-direction: column;z-index: 1;position: relative;background-color: white;}#sk-container-id-12 div.sk-parallel-item:first-child::after {align-self: flex-end;width: 50%;}#sk-container-id-12 div.sk-parallel-item:last-child::after {align-self: flex-start;width: 50%;}#sk-container-id-12 div.sk-parallel-item:only-child::after {width: 0;}#sk-container-id-12 div.sk-dashed-wrapped {border: 1px dashed gray;margin: 0 0.4em 0.5em 0.4em;box-sizing: border-box;padding-bottom: 0.4em;background-color: white;}#sk-container-id-12 div.sk-label label {font-family: monospace;font-weight: bold;display: inline-block;line-height: 1.2em;}#sk-container-id-12 div.sk-label-container {text-align: center;}#sk-container-id-12 div.sk-container {/* jupyter's `normalize.less` sets `[hidden] { display: none; }` but bootstrap.min.css set `[hidden] { display: none !important; }` so we also need the `!important` here to be able to override the default hidden behavior on the sphinx rendered scikit-learn.org. See: https://github.com/scikit-learn/scikit-learn/issues/21755 */display: inline-block !important;position: relative;}#sk-container-id-12 div.sk-text-repr-fallback {display: none;}</style><div id=\"sk-container-id-12\" class=\"sk-top-container\"><div class=\"sk-text-repr-fallback\"><pre>KMeans(n_clusters=1)</pre><b>In a Jupyter environment, please rerun this cell to show the HTML representation or trust the notebook. <br />On GitHub, the HTML representation is unable to render, please try loading this page with nbviewer.org.</b></div><div class=\"sk-container\" hidden><div class=\"sk-item\"><div class=\"sk-estimator sk-toggleable\"><input class=\"sk-toggleable__control sk-hidden--visually\" id=\"sk-estimator-id-12\" type=\"checkbox\" checked><label for=\"sk-estimator-id-12\" class=\"sk-toggleable__label sk-toggleable__label-arrow\">KMeans</label><div class=\"sk-toggleable__content\"><pre>KMeans(n_clusters=1)</pre></div></div></div></div></div>"
      ],
      "text/plain": [
       "KMeans(n_clusters=1)"
      ]
     },
     "execution_count": 87,
     "metadata": {},
     "output_type": "execute_result"
    }
   ],
   "source": [
    "kmeans_model = KMeans(n_clusters=1)\n",
    "kmeans_model.fit(X)"
   ]
  },
  {
   "cell_type": "code",
   "execution_count": 88,
   "id": "b7fe3b00",
   "metadata": {},
   "outputs": [],
   "source": [
    "centroid = kmeans_model.cluster_centers_\n"
   ]
  },
  {
   "cell_type": "code",
   "execution_count": 89,
   "id": "882132ee",
   "metadata": {},
   "outputs": [
    {
     "name": "stdout",
     "output_type": "stream",
     "text": [
      "[[8359.93803871 1058.50770192]]\n"
     ]
    }
   ],
   "source": [
    "print(centroid)"
   ]
  },
  {
   "cell_type": "code",
   "execution_count": 97,
   "id": "a42f7bd5",
   "metadata": {},
   "outputs": [],
   "source": [
    "distances = np.sqrt(((centroid - X)**2).sum(axis=1)) #Adding axis lets us sum over rows (Axis 0 would sum over columns), no axis would sum over all values. "
   ]
  },
  {
   "cell_type": "code",
   "execution_count": 101,
   "id": "dabbf4e7",
   "metadata": {},
   "outputs": [],
   "source": [
    "sorted_ids = np.argsort(distances)"
   ]
  },
  {
   "cell_type": "code",
   "execution_count": 103,
   "id": "349b8332",
   "metadata": {},
   "outputs": [
    {
     "data": {
      "text/plain": [
       "array([ 9045.15285511,  9131.2094863 ,  9269.53573714,  9372.46414142,\n",
       "        9397.66175138,  9975.72294218, 10990.15014311, 11741.21911407,\n",
       "       11783.72752489, 11975.1534794 , 12758.67867859, 13604.62714331,\n",
       "       14239.35264858, 14390.69001148])"
      ]
     },
     "execution_count": 103,
     "metadata": {},
     "output_type": "execute_result"
    }
   ],
   "source": [
    "distances[sorted_ids[-14:]]"
   ]
  },
  {
   "cell_type": "code",
   "execution_count": 104,
   "id": "8b221b8b",
   "metadata": {},
   "outputs": [],
   "source": [
    "kmeans_anomalies = X[sorted_ids[-14:]]"
   ]
  },
  {
   "cell_type": "code",
   "execution_count": 98,
   "id": "34977c63",
   "metadata": {},
   "outputs": [
    {
     "name": "stdout",
     "output_type": "stream",
     "text": [
      "[ 6673.67327117   162.91137983  2683.63107974 14390.69001148\n",
      "  7621.01393919  1501.32481882   339.72906746  6742.63356264\n",
      "  7577.06036797  1825.95709914  3000.94586511   997.56001709\n",
      " 12758.67867859  3240.29542005  2808.29756676  8261.91719344\n",
      "  1515.10675865  4683.3520671   1353.6723983   7235.17982419\n",
      "  7774.70651114  9015.7429518   2117.74553131   597.32377171\n",
      "  9045.15285511  1100.25803229   171.94328853  6664.5530578\n",
      "  3116.90058984  2901.16049086   808.67288149  6709.77736488\n",
      "  1752.43690477   995.47376807  4767.36129381   402.03555475\n",
      "  3543.84882015   747.07209135  7489.76248846  2374.00422039\n",
      "   799.40770258  3361.4979714   2676.86470712  5389.86535421\n",
      "  6926.81471071  3619.69402015   199.91852814  1321.3130746\n",
      "  2354.36108343  1684.86702486  4778.5483543    774.63659445\n",
      "   505.09753605  1032.25854956  4911.4635711    911.82631821\n",
      "  4107.63433943  4118.53264902  2426.81213408  4362.1697384\n",
      "  6885.88315189  9397.66175138  4687.05208542  5712.95992459\n",
      "  3204.5407241   1789.52496694  3720.26755325  9131.2094863\n",
      "  2047.03972236  8894.03270875  4117.40320342   996.05504196\n",
      "  3292.35043095  4326.91812667   212.83216182   293.03085588\n",
      "  3878.67112937  2751.02783692  6959.18220401  9026.96695744\n",
      " 11741.21911407  3473.59127548  2759.77510165  5084.58015553\n",
      "  1593.1077915   4025.05612423  2111.84191574  2939.58178793\n",
      "  1101.23747335   913.17775551  1769.06012696  9975.72294218\n",
      "  9269.53573714  3283.20168561  3499.55894846  3115.20261967\n",
      "  1277.19447461  6079.3008856   5494.58420303  4940.20538805\n",
      " 11975.1534794   7215.55873664 11783.72752489  1851.83307647\n",
      "  7578.69848989   923.80449011 14239.35264858  7706.74713333\n",
      "  5957.72405434  2533.26669498  5968.49439739  3130.48074421\n",
      "  6462.64733974  1915.66549781  3791.26100138  5251.842234\n",
      "  8297.08559525   233.47113193  1314.35177723  5611.40594803\n",
      "  1585.72323759  6394.8436334    456.83516425  4538.06813314\n",
      " 10990.15014311  1443.02781412  4113.58101633  2236.19585667\n",
      "   593.70925292  9372.46414142  3811.62550927 13604.62714331\n",
      "  1640.46252519  1233.51540216   267.5779962   1659.63079251\n",
      "  3546.2119708    217.09915793  8307.51230847  1363.84517297]\n"
     ]
    }
   ],
   "source": [
    "print(distances)"
   ]
  },
  {
   "cell_type": "markdown",
   "id": "1c58929c",
   "metadata": {},
   "source": [
    "To calculate distance from points, you need to use Pythagreum Theorum a2+b2 = c2 (triangle distance)"
   ]
  },
  {
   "cell_type": "markdown",
   "id": "Ujf515QH6U8o",
   "metadata": {
    "id": "Ujf515QH6U8o"
   },
   "source": [
    "**Question 14**: How can we use the fitted model for anomaly detection?"
   ]
  },
  {
   "cell_type": "code",
   "execution_count": 92,
   "id": "JScBl4HT6oMn",
   "metadata": {
    "id": "JScBl4HT6oMn"
   },
   "outputs": [],
   "source": [
    "kmeans_model_pred = kmeans_model.predict(X)"
   ]
  },
  {
   "cell_type": "code",
   "execution_count": 93,
   "id": "695ea323",
   "metadata": {},
   "outputs": [
    {
     "name": "stdout",
     "output_type": "stream",
     "text": [
      "[0 0 0 0 0 0 0 0 0 0 0 0 0 0 0 0 0 0 0 0 0 0 0 0 0 0 0 0 0 0 0 0 0 0 0 0 0\n",
      " 0 0 0 0 0 0 0 0 0 0 0 0 0 0 0 0 0 0 0 0 0 0 0 0 0 0 0 0 0 0 0 0 0 0 0 0 0\n",
      " 0 0 0 0 0 0 0 0 0 0 0 0 0 0 0 0 0 0 0 0 0 0 0 0 0 0 0 0 0 0 0 0 0 0 0 0 0\n",
      " 0 0 0 0 0 0 0 0 0 0 0 0 0 0 0 0 0 0 0 0 0 0 0 0 0 0 0 0 0]\n"
     ]
    }
   ],
   "source": [
    "print(kmeans_model_pred)"
   ]
  },
  {
   "cell_type": "code",
   "execution_count": 94,
   "id": "584d3691",
   "metadata": {},
   "outputs": [
    {
     "name": "stdout",
     "output_type": "stream",
     "text": [
      "[]\n"
     ]
    }
   ],
   "source": [
    "kmeans_anomalies = X[kmeans_model_pred == 1]\n",
    "print(kmeans_anomalies)"
   ]
  },
  {
   "cell_type": "markdown",
   "id": "t4QxdJK46tJX",
   "metadata": {
    "id": "t4QxdJK46tJX"
   },
   "source": [
    "**Question 15**: Do we need to set a threshold? If yes, then how?\n",
    "\n",
    "*Answer: ...*"
   ]
  },
  {
   "cell_type": "code",
   "execution_count": null,
   "id": "1aCOt59VfjUI",
   "metadata": {
    "colab": {
     "base_uri": "https://localhost:8080/"
    },
    "id": "1aCOt59VfjUI",
    "outputId": "26bf1553-1c53-452c-f7fb-1052aa9adbcb"
   },
   "outputs": [],
   "source": []
  },
  {
   "cell_type": "markdown",
   "id": "254d1831",
   "metadata": {
    "id": "254d1831"
   },
   "source": [
    "## Plot\n",
    "\n",
    "### Isolation forest"
   ]
  },
  {
   "cell_type": "code",
   "execution_count": 95,
   "id": "9be7e105",
   "metadata": {
    "colab": {
     "base_uri": "https://localhost:8080/",
     "height": 489
    },
    "id": "9be7e105",
    "outputId": "8c3b9dbe-3ba8-448b-c46e-f74ce1dda4c0"
   },
   "outputs": [
    {
     "data": {
      "text/plain": [
       "Text(0, 0.5, 'Operating Profits')"
      ]
     },
     "execution_count": 95,
     "metadata": {},
     "output_type": "execute_result"
    },
    {
     "data": {
      "image/png": "[encoded data removed]",
      "text/plain": [
       "<Figure size 640x480 with 1 Axes>"
      ]
     },
     "metadata": {},
     "output_type": "display_data"
    }
   ],
   "source": [
    "# plot the line, the samples, and the nearest vectors to the plane\n",
    "xx, yy = np.meshgrid(np.linspace(-5000, 25000, 500), np.linspace(-2000, 10000, 100))\n",
    "Z = iso_model.decision_function(np.c_[xx.ravel(), yy.ravel()])\n",
    "Z = Z.reshape(xx.shape)\n",
    "\n",
    "plt.title(\"IsolationForest\")\n",
    "plt.contourf(xx, yy, Z, cmap=plt.cm.Blues_r)\n",
    "\n",
    "plt.scatter(X[:, 0], X[:, 1], c='white', s=20, edgecolor='k')\n",
    "plt.scatter(iso_anomalies[:, 0], iso_anomalies[:, 1], c='red', ec='k', s=20)\n",
    "plt.axis('tight')\n",
    "plt.xlim((-5000, 25000))\n",
    "plt.ylim((-2000, 10000))\n",
    "plt.xlabel('Total Assets')\n",
    "plt.ylabel('Operating Profits')"
   ]
  },
  {
   "cell_type": "markdown",
   "id": "0145e2d5",
   "metadata": {
    "id": "0145e2d5"
   },
   "source": [
    "## *K*-means"
   ]
  },
  {
   "cell_type": "code",
   "execution_count": 105,
   "id": "40de7f79",
   "metadata": {
    "colab": {
     "base_uri": "https://localhost:8080/",
     "height": 489
    },
    "id": "40de7f79",
    "outputId": "4af490be-7f5c-433c-9c15-320f35e55c5e"
   },
   "outputs": [
    {
     "data": {
      "text/plain": [
       "Text(0.5, 1.0, 'K-means')"
      ]
     },
     "execution_count": 105,
     "metadata": {},
     "output_type": "execute_result"
    },
    {
     "data": {
      "image/png": "[encoded data removed]",
      "text/plain": [
       "<Figure size 640x480 with 1 Axes>"
      ]
     },
     "metadata": {},
     "output_type": "display_data"
    }
   ],
   "source": [
    "xx, yy = np.meshgrid(np.linspace(-5000, 25000, 500), np.linspace(-2000, 10000, 100))\n",
    "Z = kmeans_model.predict(np.c_[xx.ravel(), yy.ravel()])\n",
    "\n",
    "# Put the result into a color plot\n",
    "Z = Z.reshape(xx.shape)\n",
    "plt.figure(1)\n",
    "plt.clf()\n",
    "plt.imshow(Z, interpolation=\"nearest\", extent=(xx.min(), xx.max(), yy.min(), yy.max()),\n",
    "           cmap=plt.cm.Paired, aspect=\"auto\", origin=\"lower\")\n",
    "\n",
    "centroids = kmeans_model.cluster_centers_\n",
    "\n",
    "plt.plot(X[:, 0], X[:, 1], \"k.\", markersize=5)\n",
    "plt.scatter(kmeans_anomalies[:, 0], kmeans_anomalies[:, 1], marker='o', c='red', ec='r', s=50)\n",
    "plt.scatter(centroids[:, 0], centroids[:, 1], marker=\"x\", s=169, linewidths=3, color=\"w\", zorder=10)\n",
    "plt.xlabel('Total Assets')\n",
    "plt.ylabel('Operating Profits')\n",
    "plt.title(\"K-means\")"
   ]
  },
  {
   "cell_type": "code",
   "execution_count": null,
   "id": "cfabe91d",
   "metadata": {
    "id": "cfabe91d"
   },
   "outputs": [],
   "source": []
  }
 ],
 "metadata": {
  "colab": {
   "provenance": []
  },
  "kernelspec": {
   "display_name": "Python 3 (ipykernel)",
   "language": "python",
   "name": "python3"
  },
  "language_info": {
   "codemirror_mode": {
    "name": "ipython",
    "version": 3
   },
   "file_extension": ".py",
   "mimetype": "text/x-python",
   "name": "python",
   "nbconvert_exporter": "python",
   "pygments_lexer": "ipython3",
   "version": "3.11.3"
  }
 },
 "nbformat": 4,
 "nbformat_minor": 5
}
